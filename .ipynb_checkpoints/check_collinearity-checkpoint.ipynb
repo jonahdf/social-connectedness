{
 "cells": [
  {
   "cell_type": "code",
   "execution_count": 5,
   "metadata": {},
   "outputs": [
    {
     "name": "stdout",
     "output_type": "stream",
     "text": [
      "                      Country alpha-2 Alpha-3 code           GDP  \\\n",
      "0                 Afghanistan      AF          AFG    524.162881   \n",
      "1                     Albania      AL          ALB   5284.380184   \n",
      "2                     Algeria      DZ          DZA   4114.715061   \n",
      "3              American Samoa      AS          ASM  11466.690710   \n",
      "4                     Andorra      AD          AND  41793.055260   \n",
      "..                        ...     ...          ...           ...   \n",
      "211  Virgin Islands (British)      VG          VGB           NaN   \n",
      "212     Virgin Islands (U.S.)      VI          VIR           NaN   \n",
      "213                     Yemen      YE          YEM    968.159048   \n",
      "214                    Zambia      ZM          ZMB   1556.334482   \n",
      "215                  Zimbabwe      ZW          ZWE   1683.740577   \n",
      "\n",
      "     Population (2019)  Literacy Rate Age 15+ (2018)  Internet Rate (2017)  \\\n",
      "0           38041754.0                     43.019718             11.447688   \n",
      "1            2854191.0                     98.141151             71.847041   \n",
      "2           43053054.0                     81.407837             47.691055   \n",
      "3              55312.0                           NaN                   NaN   \n",
      "4              77142.0                           NaN             91.567467   \n",
      "..                 ...                           ...                   ...   \n",
      "211            30030.0                           NaN             77.704268   \n",
      "212           106631.0                           NaN             64.377494   \n",
      "213         29161922.0                           NaN             26.718355   \n",
      "214         17861030.0                     86.747963             27.852579   \n",
      "215         14645468.0                           NaN             27.055488   \n",
      "\n",
      "     Human Capital Index (2018) Primary Language spoken  \n",
      "0                      0.393489                 Persian  \n",
      "1                      0.628666                Albanian  \n",
      "2                      0.531994                  Arabic  \n",
      "3                           NaN                     NaN  \n",
      "4                           NaN                 Catalan  \n",
      "..                          ...                     ...  \n",
      "211                         NaN                 English  \n",
      "212                         NaN                     NaN  \n",
      "213                    0.372636                  Arabic  \n",
      "214                    0.391176                 English  \n",
      "215                    0.461242                 English  \n",
      "\n",
      "[216 rows x 9 columns]\n"
     ]
    }
   ],
   "source": [
    "# check if the variables are correlated with each other\n",
    "\n",
    "import pandas as pd\n",
    "import numpy as np\n",
    "from matplotlib import pyplot as plt\n",
    "\n",
    "#df = pd.read_csv('data/combined.csv',encoding='latin-1',keep_default_na=False,na_values=['..','#N/A'])\n",
    "df = pd.read_csv('data/country.csv',encoding='latin-1',keep_default_na=False,na_values=['..','#N/A'])\n",
    "df = df.drop(columns=['Numeric','Lat','Long'])\n",
    "df = df.rename(columns={'gdp': 'GDP'})\n",
    "print(df)"
   ]
  },
  {
   "cell_type": "code",
   "execution_count": 6,
   "metadata": {},
   "outputs": [],
   "source": [
    "corr = df.corr()"
   ]
  },
  {
   "cell_type": "code",
   "execution_count": 7,
   "metadata": {},
   "outputs": [
    {
     "ename": "ModuleNotFoundError",
     "evalue": "No module named 'seaborn'",
     "output_type": "error",
     "traceback": [
      "\u001b[0;31m---------------------------------------------------------------------------\u001b[0m",
      "\u001b[0;31mModuleNotFoundError\u001b[0m                       Traceback (most recent call last)",
      "\u001b[0;32m<ipython-input-7-0bde2a7150d8>\u001b[0m in \u001b[0;36m<module>\u001b[0;34m\u001b[0m\n\u001b[1;32m      1\u001b[0m \u001b[0;31m#Country correlations\u001b[0m\u001b[0;34m\u001b[0m\u001b[0;34m\u001b[0m\u001b[0;34m\u001b[0m\u001b[0m\n\u001b[0;32m----> 2\u001b[0;31m \u001b[0;32mimport\u001b[0m \u001b[0mseaborn\u001b[0m \u001b[0;32mas\u001b[0m \u001b[0msns\u001b[0m\u001b[0;34m\u001b[0m\u001b[0;34m\u001b[0m\u001b[0m\n\u001b[0m\u001b[1;32m      3\u001b[0m \u001b[0max\u001b[0m \u001b[0;34m=\u001b[0m \u001b[0mplt\u001b[0m\u001b[0;34m.\u001b[0m\u001b[0maxes\u001b[0m\u001b[0;34m(\u001b[0m\u001b[0;34m)\u001b[0m\u001b[0;34m\u001b[0m\u001b[0;34m\u001b[0m\u001b[0m\n\u001b[1;32m      4\u001b[0m \u001b[0msns\u001b[0m\u001b[0;34m.\u001b[0m\u001b[0mheatmap\u001b[0m\u001b[0;34m(\u001b[0m\u001b[0mcorr\u001b[0m\u001b[0;34m,\u001b[0m \u001b[0max\u001b[0m\u001b[0;34m=\u001b[0m\u001b[0max\u001b[0m\u001b[0;34m)\u001b[0m\u001b[0;34m\u001b[0m\u001b[0;34m\u001b[0m\u001b[0m\n\u001b[1;32m      5\u001b[0m \u001b[0;34m\u001b[0m\u001b[0m\n",
      "\u001b[0;31mModuleNotFoundError\u001b[0m: No module named 'seaborn'"
     ]
    }
   ],
   "source": [
    "#Country correlations\n",
    "import seaborn as sns\n",
    "ax = plt.axes()\n",
    "sns.heatmap(corr, ax=ax)\n",
    "\n",
    "ax.set_title('Heatmap of Correlations between Independent Variables', fontsize=20)\n",
    "plt.show()"
   ]
  },
  {
   "cell_type": "code",
   "execution_count": null,
   "metadata": {},
   "outputs": [],
   "source": [
    "pairwise_df = pd.read_csv('data/pairwise.csv',encoding='latin-1')\n",
    "pairwise_df_norank = pairwise_df.drop(columns=['user_loc','fr_loc','scaled_sci','sci_ranked','population_diff_ranked','trade_ranked'])\n",
    "print(pairwise_df_norank)"
   ]
  },
  {
   "cell_type": "code",
   "execution_count": null,
   "metadata": {},
   "outputs": [],
   "source": [
    "#Pairwise correlation heatmap\n",
    "\n",
    "corr2 = pairwise_df_norank.corr(method='spearman')\n",
    "ax = plt.axes()\n",
    "sns.heatmap(corr2, ax=ax)\n",
    "ax.set_title('Heatmap of Pairwise Correlations', fontsize=20)\n",
    "plt.show()"
   ]
  },
  {
   "cell_type": "code",
   "execution_count": null,
   "metadata": {},
   "outputs": [],
   "source": [
    "#Final correlation results\n",
    "\n",
    "pairwise_df = pairwise_df.drop(columns=['user_loc','fr_loc','sci_ranked','population_diff_ranked','trade_ranked'])\n",
    "corr_matrix = pairwise_df.corr(method='spearman')\n",
    "corr_matrix = corr_matrix.drop(['scaled_sci'])\n",
    "#Sort by absolute value\n",
    "corr_matrix = corr_matrix.reindex(corr_matrix.scaled_sci.abs().sort_values(ascending=False).index)\n",
    "corr_matrix = corr_matrix.rename(columns={'scaled_sci':\"Correlation with SCI\"},index={'migrants_from_fr':'Migration','gdp_diff':'GDP Per Capita','population_diff':'Population','literacy_dif':'Literacy', 'internet_diff':'Internet Access','hci_diff':'Human Capital Index','trade':'Trade','distance':\"Distance\"})\n",
    "\n",
    "print(corr_matrix[['Correlation with SCI']])\n",
    "\n"
   ]
  },
  {
   "cell_type": "code",
   "execution_count": null,
   "metadata": {},
   "outputs": [],
   "source": []
  }
 ],
 "metadata": {
  "kernelspec": {
   "display_name": "Python 3",
   "language": "python",
   "name": "python3"
  },
  "language_info": {
   "codemirror_mode": {
    "name": "ipython",
    "version": 3
   },
   "file_extension": ".py",
   "mimetype": "text/x-python",
   "name": "python",
   "nbconvert_exporter": "python",
   "pygments_lexer": "ipython3",
   "version": "3.7.6"
  }
 },
 "nbformat": 4,
 "nbformat_minor": 4
}
