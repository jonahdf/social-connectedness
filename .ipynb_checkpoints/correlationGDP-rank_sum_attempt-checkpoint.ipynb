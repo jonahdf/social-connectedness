{
 "cells": [
  {
   "cell_type": "code",
   "execution_count": 8,
   "metadata": {},
   "outputs": [
    {
     "data": {
      "text/html": [
       "<div>\n",
       "<style scoped>\n",
       "    .dataframe tbody tr th:only-of-type {\n",
       "        vertical-align: middle;\n",
       "    }\n",
       "\n",
       "    .dataframe tbody tr th {\n",
       "        vertical-align: top;\n",
       "    }\n",
       "\n",
       "    .dataframe thead th {\n",
       "        text-align: right;\n",
       "    }\n",
       "</style>\n",
       "<table border=\"1\" class=\"dataframe\">\n",
       "  <thead>\n",
       "    <tr style=\"text-align: right;\">\n",
       "      <th></th>\n",
       "      <th>user_loc</th>\n",
       "      <th>fr_loc</th>\n",
       "      <th>scaled_sci</th>\n",
       "      <th>Migrants_from_fr</th>\n",
       "      <th>C</th>\n",
       "      <th>SCI_log10</th>\n",
       "    </tr>\n",
       "  </thead>\n",
       "  <tbody>\n",
       "    <tr>\n",
       "      <th>0</th>\n",
       "      <td>AE</td>\n",
       "      <td>AE</td>\n",
       "      <td>1318515</td>\n",
       "      <td>..</td>\n",
       "      <td>0</td>\n",
       "      <td>6.120085</td>\n",
       "    </tr>\n",
       "    <tr>\n",
       "      <th>1</th>\n",
       "      <td>AE</td>\n",
       "      <td>AG</td>\n",
       "      <td>7764</td>\n",
       "      <td>..</td>\n",
       "      <td>1</td>\n",
       "      <td>3.890086</td>\n",
       "    </tr>\n",
       "    <tr>\n",
       "      <th>2</th>\n",
       "      <td>AE</td>\n",
       "      <td>AL</td>\n",
       "      <td>2836</td>\n",
       "      <td>..</td>\n",
       "      <td>2</td>\n",
       "      <td>3.452706</td>\n",
       "    </tr>\n",
       "    <tr>\n",
       "      <th>3</th>\n",
       "      <td>AE</td>\n",
       "      <td>AM</td>\n",
       "      <td>4174</td>\n",
       "      <td>..</td>\n",
       "      <td>3</td>\n",
       "      <td>3.620552</td>\n",
       "    </tr>\n",
       "    <tr>\n",
       "      <th>4</th>\n",
       "      <td>AE</td>\n",
       "      <td>AO</td>\n",
       "      <td>2954</td>\n",
       "      <td>..</td>\n",
       "      <td>4</td>\n",
       "      <td>3.470410</td>\n",
       "    </tr>\n",
       "    <tr>\n",
       "      <th>...</th>\n",
       "      <td>...</td>\n",
       "      <td>...</td>\n",
       "      <td>...</td>\n",
       "      <td>...</td>\n",
       "      <td>...</td>\n",
       "      <td>...</td>\n",
       "    </tr>\n",
       "    <tr>\n",
       "      <th>34220</th>\n",
       "      <td>NaN</td>\n",
       "      <td>YT</td>\n",
       "      <td>12385</td>\n",
       "      <td>NaN</td>\n",
       "      <td>34220</td>\n",
       "      <td>4.092896</td>\n",
       "    </tr>\n",
       "    <tr>\n",
       "      <th>34221</th>\n",
       "      <td>NaN</td>\n",
       "      <td>ZA</td>\n",
       "      <td>88866</td>\n",
       "      <td>7872</td>\n",
       "      <td>34221</td>\n",
       "      <td>4.948736</td>\n",
       "    </tr>\n",
       "    <tr>\n",
       "      <th>34222</th>\n",
       "      <td>NaN</td>\n",
       "      <td>ZM</td>\n",
       "      <td>137582</td>\n",
       "      <td>2806</td>\n",
       "      <td>34222</td>\n",
       "      <td>5.138562</td>\n",
       "    </tr>\n",
       "    <tr>\n",
       "      <th>34223</th>\n",
       "      <td>NaN</td>\n",
       "      <td>ZW</td>\n",
       "      <td>326749</td>\n",
       "      <td>13413</td>\n",
       "      <td>34223</td>\n",
       "      <td>5.514214</td>\n",
       "    </tr>\n",
       "    <tr>\n",
       "      <th>34224</th>\n",
       "      <td>NaN</td>\n",
       "      <td>NaN</td>\n",
       "      <td>115262823</td>\n",
       "      <td>..</td>\n",
       "      <td>34224</td>\n",
       "      <td>8.061689</td>\n",
       "    </tr>\n",
       "  </tbody>\n",
       "</table>\n",
       "<p>34225 rows × 6 columns</p>\n",
       "</div>"
      ],
      "text/plain": [
       "      user_loc fr_loc  scaled_sci Migrants_from_fr      C  SCI_log10\n",
       "0           AE     AE     1318515               ..      0   6.120085\n",
       "1           AE     AG        7764               ..      1   3.890086\n",
       "2           AE     AL        2836               ..      2   3.452706\n",
       "3           AE     AM        4174               ..      3   3.620552\n",
       "4           AE     AO        2954               ..      4   3.470410\n",
       "...        ...    ...         ...              ...    ...        ...\n",
       "34220      NaN     YT       12385              NaN  34220   4.092896\n",
       "34221      NaN     ZA       88866             7872  34221   4.948736\n",
       "34222      NaN     ZM      137582             2806  34222   5.138562\n",
       "34223      NaN     ZW      326749            13413  34223   5.514214\n",
       "34224      NaN    NaN   115262823               ..  34224   8.061689\n",
       "\n",
       "[34225 rows x 6 columns]"
      ]
     },
     "execution_count": 8,
     "metadata": {},
     "output_type": "execute_result"
    }
   ],
   "source": [
    "# show the power law distribution of SCI\n",
    "import pandas as pd\n",
    "import numpy as np\n",
    "from matplotlib import pyplot as plt\n",
    "\n",
    "df = pd.read_csv(\"data/sci.csv\")\n",
    "df.head()\n",
    "\n",
    "df['C'] = np.arange(len(df))\n",
    "df['SCI_log10'] = np.log10(df['scaled_sci'])\n",
    "df"
   ]
  },
  {
   "cell_type": "code",
   "execution_count": 5,
   "metadata": {},
   "outputs": [
    {
     "name": "stdout",
     "output_type": "stream",
     "text": [
      "       index  SCI_log10\n",
      "0      20829   1.698970\n",
      "1      20277   1.698970\n",
      "2      20227   1.770852\n",
      "3      11579   1.770852\n",
      "4      28229   1.792392\n",
      "...      ...        ...\n",
      "34220  16182   8.971240\n",
      "34221    186   8.972865\n",
      "34222  29016   8.977212\n",
      "34223  10416   8.990113\n",
      "34224  27528   9.000000\n",
      "\n",
      "[34225 rows x 2 columns]\n"
     ]
    },
    {
     "data": {
      "text/plain": [
       "Text(0.5, 0, 'Observation')"
      ]
     },
     "execution_count": 5,
     "metadata": {},
     "output_type": "execute_result"
    },
    {
     "data": {
      "image/png": "[encoded data removed]",
      "text/plain": [
       "<Figure size 432x288 with 1 Axes>"
      ]
     },
     "metadata": {
      "needs_background": "light"
     },
     "output_type": "display_data"
    }
   ],
   "source": [
    "scis = df['SCI_log10'].sort_values().reset_index()\n",
    "print(scis)\n",
    "scis.describe()\n",
    "\n",
    "plt.plot(scis['SCI_log10'])\n",
    "plt.title(\"SCI Distribution\")\n",
    "plt.ylabel(\"log10(SCI)\")\n",
    "plt.xlabel(\"Observation\")"
   ]
  },
  {
   "cell_type": "code",
   "execution_count": 9,
   "metadata": {},
   "outputs": [
    {
     "name": "stdout",
     "output_type": "stream",
     "text": [
      "      user_loc fr_loc scaled_sci Migrants_from_fr     gdp_user       gdp_fr\n",
      "0           AE     AE    1318515               ..  43839.35635  43839.35635\n",
      "1           AE     AG       7764               ..  43839.35635  16726.98081\n",
      "2           AE     AL       2836               ..  43839.35635  5284.380184\n",
      "3           AE     AM       4174               ..  43839.35635  4220.490277\n",
      "4           AE     AO       2954               ..  43839.35635  3289.646664\n",
      "...        ...    ...        ...              ...          ...          ...\n",
      "34220      nan     YT      12385              nan  5495.428836          NaN\n",
      "34221      nan     ZA      88866             7872  5495.428836  6374.028196\n",
      "34222      nan     ZM     137582             2806  5495.428836  1556.334482\n",
      "34223      nan     ZW     326749            13413  5495.428836  1683.740577\n",
      "34224      nan    nan  115262823               ..  5495.428836  5495.428836\n",
      "\n",
      "[34225 rows x 6 columns]\n",
      "      user_loc fr_loc scaled_sci Migrants_from_fr      gdp_user        gdp_fr\n",
      "0           AE     AE    1318515               ..  43839.356350  43839.356350\n",
      "1           AE     AG       7764               ..  43839.356350  16726.980810\n",
      "2           AE     AL       2836               ..  43839.356350   5284.380184\n",
      "3           AE     AM       4174               ..  43839.356350   4220.490277\n",
      "4           AE     AO       2954               ..  43839.356350   3289.646664\n",
      "...        ...    ...        ...              ...           ...           ...\n",
      "34218      nan     WS       1411               ..   5495.428836   4183.408032\n",
      "34221      nan     ZA      88866             7872   5495.428836   6374.028196\n",
      "34222      nan     ZM     137582             2806   5495.428836   1556.334482\n",
      "34223      nan     ZW     326749            13413   5495.428836   1683.740577\n",
      "34224      nan    nan  115262823               ..   5495.428836   5495.428836\n",
      "\n",
      "[29929 rows x 6 columns]\n"
     ]
    }
   ],
   "source": [
    "# correlation between GDP and SCI\n",
    "country_data = pd.read_csv('data/country.csv',encoding='latin-1')\n",
    "country_data = country_data.astype(str)\n",
    "sci_data = pd.read_csv('data/sci.csv',encoding='latin-1').astype(str)\n",
    "gdps = country_data[['alpha-2','gdp']]\n",
    "\n",
    "# merge GDP and SCI datasets\n",
    "merged = sci_data.merge(gdps,\n",
    "                            how='left',\n",
    "                            left_on='user_loc',\n",
    "                            right_on = 'alpha-2')\n",
    "merged = merged.merge(gdps,\n",
    "                        how='left',\n",
    "                        left_on='fr_loc',\n",
    "                        right_on='alpha-2',\n",
    "                        suffixes=('_user','_fr'))\n",
    "merged = merged.drop(columns=['alpha-2_user','alpha-2_fr'])\n",
    "print(merged)\n",
    "\n",
    "# cleaning data to remove NA values from GDP\n",
    "merged['gdp_user'] = pd.to_numeric(merged['gdp_user'], errors='coerce')\n",
    "merged['gdp_fr'] = pd.to_numeric(merged['gdp_fr'], errors='coerce')\n",
    "merged = merged[merged['gdp_user'].notna()]\n",
    "merged = merged[merged['gdp_fr'].notna()]\n",
    "print(merged)"
   ]
  },
  {
   "cell_type": "code",
   "execution_count": 11,
   "metadata": {},
   "outputs": [
    {
     "name": "stdout",
     "output_type": "stream",
     "text": [
      "      user_loc fr_loc scaled_sci Migrants_from_fr      gdp_user        gdp_fr  \\\n",
      "1           AE     AG       7764               ..  43839.356350  16726.980810   \n",
      "2           AE     AL       2836               ..  43839.356350   5284.380184   \n",
      "3           AE     AM       4174               ..  43839.356350   4220.490277   \n",
      "4           AE     AO       2954               ..  43839.356350   3289.646664   \n",
      "5           AE     AR        887               ..  43839.356350  11683.949620   \n",
      "...        ...    ...        ...              ...           ...           ...   \n",
      "34217      nan     VU       1711               ..   5495.428836   3095.702156   \n",
      "34218      nan     WS       1411               ..   5495.428836   4183.408032   \n",
      "34221      nan     ZA      88866             7872   5495.428836   6374.028196   \n",
      "34222      nan     ZM     137582             2806   5495.428836   1556.334482   \n",
      "34223      nan     ZW     326749            13413   5495.428836   1683.740577   \n",
      "\n",
      "       abs_diff_gdp  \n",
      "1      27112.375540  \n",
      "2      38554.976166  \n",
      "3      39618.866073  \n",
      "4      40549.709686  \n",
      "5      32155.406730  \n",
      "...             ...  \n",
      "34217   2399.726680  \n",
      "34218   1312.020804  \n",
      "34221    878.599360  \n",
      "34222   3939.094354  \n",
      "34223   3811.688259  \n",
      "\n",
      "[29756 rows x 7 columns]\n"
     ]
    }
   ],
   "source": [
    "# add a column for absolute difference of GDP\n",
    "merged[\"abs_diff_gdp\"] = abs(merged['gdp_user'] - merged['gdp_fr'])\n",
    "\n",
    "# drop any rows if the absolute difference is 0; this is when a country was compared against itself\n",
    "merged.drop(merged[merged[\"abs_diff_gdp\"] == 0].index, inplace = True) \n",
    "print(merged)"
   ]
  },
  {
   "cell_type": "code",
   "execution_count": 7,
   "metadata": {},
   "outputs": [
    {
     "ename": "KeyError",
     "evalue": "'abs_diff_gdp'",
     "output_type": "error",
     "traceback": [
      "\u001b[0;31m---------------------------------------------------------------------------\u001b[0m",
      "\u001b[0;31mKeyError\u001b[0m                                  Traceback (most recent call last)",
      "\u001b[0;32m~/miniconda3/lib/python3.7/site-packages/pandas/core/indexes/base.py\u001b[0m in \u001b[0;36mget_loc\u001b[0;34m(self, key, method, tolerance)\u001b[0m\n\u001b[1;32m   2894\u001b[0m             \u001b[0;32mtry\u001b[0m\u001b[0;34m:\u001b[0m\u001b[0;34m\u001b[0m\u001b[0;34m\u001b[0m\u001b[0m\n\u001b[0;32m-> 2895\u001b[0;31m                 \u001b[0;32mreturn\u001b[0m \u001b[0mself\u001b[0m\u001b[0;34m.\u001b[0m\u001b[0m_engine\u001b[0m\u001b[0;34m.\u001b[0m\u001b[0mget_loc\u001b[0m\u001b[0;34m(\u001b[0m\u001b[0mcasted_key\u001b[0m\u001b[0;34m)\u001b[0m\u001b[0;34m\u001b[0m\u001b[0;34m\u001b[0m\u001b[0m\n\u001b[0m\u001b[1;32m   2896\u001b[0m             \u001b[0;32mexcept\u001b[0m \u001b[0mKeyError\u001b[0m \u001b[0;32mas\u001b[0m \u001b[0merr\u001b[0m\u001b[0;34m:\u001b[0m\u001b[0;34m\u001b[0m\u001b[0;34m\u001b[0m\u001b[0m\n",
      "\u001b[0;32mpandas/_libs/index.pyx\u001b[0m in \u001b[0;36mpandas._libs.index.IndexEngine.get_loc\u001b[0;34m()\u001b[0m\n",
      "\u001b[0;32mpandas/_libs/index.pyx\u001b[0m in \u001b[0;36mpandas._libs.index.IndexEngine.get_loc\u001b[0;34m()\u001b[0m\n",
      "\u001b[0;32mpandas/_libs/hashtable_class_helper.pxi\u001b[0m in \u001b[0;36mpandas._libs.hashtable.PyObjectHashTable.get_item\u001b[0;34m()\u001b[0m\n",
      "\u001b[0;32mpandas/_libs/hashtable_class_helper.pxi\u001b[0m in \u001b[0;36mpandas._libs.hashtable.PyObjectHashTable.get_item\u001b[0;34m()\u001b[0m\n",
      "\u001b[0;31mKeyError\u001b[0m: 'abs_diff_gdp'",
      "\nThe above exception was the direct cause of the following exception:\n",
      "\u001b[0;31mKeyError\u001b[0m                                  Traceback (most recent call last)",
      "\u001b[0;32m<ipython-input-7-6ed7ce22d985>\u001b[0m in \u001b[0;36m<module>\u001b[0;34m\u001b[0m\n\u001b[1;32m      3\u001b[0m \u001b[0mmerged\u001b[0m\u001b[0;34m[\u001b[0m\u001b[0;34m'SCI_log10'\u001b[0m\u001b[0;34m]\u001b[0m \u001b[0;34m=\u001b[0m \u001b[0mnp\u001b[0m\u001b[0;34m.\u001b[0m\u001b[0mlog10\u001b[0m\u001b[0;34m(\u001b[0m\u001b[0mmerged\u001b[0m\u001b[0;34m[\u001b[0m\u001b[0;34m'scaled_sci'\u001b[0m\u001b[0;34m]\u001b[0m\u001b[0;34m)\u001b[0m\u001b[0;34m\u001b[0m\u001b[0;34m\u001b[0m\u001b[0m\n\u001b[1;32m      4\u001b[0m \u001b[0;34m\u001b[0m\u001b[0m\n\u001b[0;32m----> 5\u001b[0;31m \u001b[0mplt\u001b[0m\u001b[0;34m.\u001b[0m\u001b[0mscatter\u001b[0m\u001b[0;34m(\u001b[0m\u001b[0mmerged\u001b[0m\u001b[0;34m[\u001b[0m\u001b[0;34m'abs_diff_gdp'\u001b[0m\u001b[0;34m]\u001b[0m\u001b[0;34m,\u001b[0m \u001b[0mmerged\u001b[0m\u001b[0;34m[\u001b[0m\u001b[0;34m'SCI_log10'\u001b[0m\u001b[0;34m]\u001b[0m\u001b[0;34m,\u001b[0m \u001b[0malpha\u001b[0m \u001b[0;34m=\u001b[0m \u001b[0;36m0.01\u001b[0m\u001b[0;34m)\u001b[0m\u001b[0;34m\u001b[0m\u001b[0;34m\u001b[0m\u001b[0m\n\u001b[0m\u001b[1;32m      6\u001b[0m \u001b[0mplt\u001b[0m\u001b[0;34m.\u001b[0m\u001b[0mxlabel\u001b[0m\u001b[0;34m(\u001b[0m\u001b[0;34m'Absolute Difference of GDP'\u001b[0m\u001b[0;34m)\u001b[0m\u001b[0;34m\u001b[0m\u001b[0;34m\u001b[0m\u001b[0m\n\u001b[1;32m      7\u001b[0m \u001b[0mplt\u001b[0m\u001b[0;34m.\u001b[0m\u001b[0mylabel\u001b[0m\u001b[0;34m(\u001b[0m\u001b[0;34m'log10(SCI)'\u001b[0m\u001b[0;34m)\u001b[0m\u001b[0;34m\u001b[0m\u001b[0;34m\u001b[0m\u001b[0m\n",
      "\u001b[0;32m~/miniconda3/lib/python3.7/site-packages/pandas/core/frame.py\u001b[0m in \u001b[0;36m__getitem__\u001b[0;34m(self, key)\u001b[0m\n\u001b[1;32m   2904\u001b[0m             \u001b[0;32mif\u001b[0m \u001b[0mself\u001b[0m\u001b[0;34m.\u001b[0m\u001b[0mcolumns\u001b[0m\u001b[0;34m.\u001b[0m\u001b[0mnlevels\u001b[0m \u001b[0;34m>\u001b[0m \u001b[0;36m1\u001b[0m\u001b[0;34m:\u001b[0m\u001b[0;34m\u001b[0m\u001b[0;34m\u001b[0m\u001b[0m\n\u001b[1;32m   2905\u001b[0m                 \u001b[0;32mreturn\u001b[0m \u001b[0mself\u001b[0m\u001b[0;34m.\u001b[0m\u001b[0m_getitem_multilevel\u001b[0m\u001b[0;34m(\u001b[0m\u001b[0mkey\u001b[0m\u001b[0;34m)\u001b[0m\u001b[0;34m\u001b[0m\u001b[0;34m\u001b[0m\u001b[0m\n\u001b[0;32m-> 2906\u001b[0;31m             \u001b[0mindexer\u001b[0m \u001b[0;34m=\u001b[0m \u001b[0mself\u001b[0m\u001b[0;34m.\u001b[0m\u001b[0mcolumns\u001b[0m\u001b[0;34m.\u001b[0m\u001b[0mget_loc\u001b[0m\u001b[0;34m(\u001b[0m\u001b[0mkey\u001b[0m\u001b[0;34m)\u001b[0m\u001b[0;34m\u001b[0m\u001b[0;34m\u001b[0m\u001b[0m\n\u001b[0m\u001b[1;32m   2907\u001b[0m             \u001b[0;32mif\u001b[0m \u001b[0mis_integer\u001b[0m\u001b[0;34m(\u001b[0m\u001b[0mindexer\u001b[0m\u001b[0;34m)\u001b[0m\u001b[0;34m:\u001b[0m\u001b[0;34m\u001b[0m\u001b[0;34m\u001b[0m\u001b[0m\n\u001b[1;32m   2908\u001b[0m                 \u001b[0mindexer\u001b[0m \u001b[0;34m=\u001b[0m \u001b[0;34m[\u001b[0m\u001b[0mindexer\u001b[0m\u001b[0;34m]\u001b[0m\u001b[0;34m\u001b[0m\u001b[0;34m\u001b[0m\u001b[0m\n",
      "\u001b[0;32m~/miniconda3/lib/python3.7/site-packages/pandas/core/indexes/base.py\u001b[0m in \u001b[0;36mget_loc\u001b[0;34m(self, key, method, tolerance)\u001b[0m\n\u001b[1;32m   2895\u001b[0m                 \u001b[0;32mreturn\u001b[0m \u001b[0mself\u001b[0m\u001b[0;34m.\u001b[0m\u001b[0m_engine\u001b[0m\u001b[0;34m.\u001b[0m\u001b[0mget_loc\u001b[0m\u001b[0;34m(\u001b[0m\u001b[0mcasted_key\u001b[0m\u001b[0;34m)\u001b[0m\u001b[0;34m\u001b[0m\u001b[0;34m\u001b[0m\u001b[0m\n\u001b[1;32m   2896\u001b[0m             \u001b[0;32mexcept\u001b[0m \u001b[0mKeyError\u001b[0m \u001b[0;32mas\u001b[0m \u001b[0merr\u001b[0m\u001b[0;34m:\u001b[0m\u001b[0;34m\u001b[0m\u001b[0;34m\u001b[0m\u001b[0m\n\u001b[0;32m-> 2897\u001b[0;31m                 \u001b[0;32mraise\u001b[0m \u001b[0mKeyError\u001b[0m\u001b[0;34m(\u001b[0m\u001b[0mkey\u001b[0m\u001b[0;34m)\u001b[0m \u001b[0;32mfrom\u001b[0m \u001b[0merr\u001b[0m\u001b[0;34m\u001b[0m\u001b[0;34m\u001b[0m\u001b[0m\n\u001b[0m\u001b[1;32m   2898\u001b[0m \u001b[0;34m\u001b[0m\u001b[0m\n\u001b[1;32m   2899\u001b[0m         \u001b[0;32mif\u001b[0m \u001b[0mtolerance\u001b[0m \u001b[0;32mis\u001b[0m \u001b[0;32mnot\u001b[0m \u001b[0;32mNone\u001b[0m\u001b[0;34m:\u001b[0m\u001b[0;34m\u001b[0m\u001b[0;34m\u001b[0m\u001b[0m\n",
      "\u001b[0;31mKeyError\u001b[0m: 'abs_diff_gdp'"
     ]
    }
   ],
   "source": [
    "# add a column for the log10(SCI)\n",
    "merged['scaled_sci'] = pd.to_numeric(merged['scaled_sci'], errors='coerce')\n",
    "merged['SCI_log10'] = np.log10(merged['scaled_sci'])\n",
    "\n",
    "plt.scatter(merged['abs_diff_gdp'], merged['SCI_log10'], alpha = 0.01)\n",
    "plt.xlabel('Absolute Difference of GDP')\n",
    "plt.ylabel('log10(SCI)')\n",
    "plt.title('GDP vs SCI')\n",
    "plt.show()"
   ]
  },
  {
   "cell_type": "code",
   "execution_count": 12,
   "metadata": {},
   "outputs": [
    {
     "name": "stdout",
     "output_type": "stream",
     "text": [
      "  user_loc fr_loc scaled_sci Migrants_from_fr     gdp_user        gdp_fr  \\\n",
      "1       AE     AG       7764               ..  43839.35635  16726.980810   \n",
      "2       AE     AL       2836               ..  43839.35635   5284.380184   \n",
      "3       AE     AM       4174               ..  43839.35635   4220.490277   \n",
      "4       AE     AO       2954               ..  43839.35635   3289.646664   \n",
      "5       AE     AR        887               ..  43839.35635  11683.949620   \n",
      "\n",
      "   abs_diff_gdp  \n",
      "1  27112.375540  \n",
      "2  38554.976166  \n",
      "3  39618.866073  \n",
      "4  40549.709686  \n",
      "5  32155.406730  \n"
     ]
    }
   ],
   "source": [
    "print(merged.head())"
   ]
  },
  {
   "cell_type": "code",
   "execution_count": 15,
   "metadata": {},
   "outputs": [
    {
     "name": "stdout",
     "output_type": "stream",
     "text": [
      "  user_loc fr_loc scaled_sci  abs_diff_gdp\n",
      "1       AE     AG       7764  27112.375540\n",
      "2       AE     AL       2836  38554.976166\n",
      "3       AE     AM       4174  39618.866073\n",
      "4       AE     AO       2954  40549.709686\n",
      "5       AE     AR        887  32155.406730\n"
     ]
    }
   ],
   "source": [
    "#extracting required data\n",
    "corr_data = merged[[\"user_loc\", \"fr_loc\", \"scaled_sci\", \"abs_diff_gdp\"]]\n",
    "print(corr_data.head())"
   ]
  },
  {
   "cell_type": "code",
   "execution_count": 21,
   "metadata": {},
   "outputs": [
    {
     "ename": "ModuleNotFoundError",
     "evalue": "No module named 'scipy'",
     "output_type": "error",
     "traceback": [
      "\u001b[0;31m---------------------------------------------------------------------------\u001b[0m",
      "\u001b[0;31mModuleNotFoundError\u001b[0m                       Traceback (most recent call last)",
      "\u001b[0;32m<ipython-input-21-60a6e3c8737a>\u001b[0m in \u001b[0;36m<module>\u001b[0;34m\u001b[0m\n\u001b[1;32m      1\u001b[0m \u001b[0;31m#using ranksums to get Wilcoxon Rank Sum Test p value on two samples: scaled_sci and abs_diff_gdp\u001b[0m\u001b[0;34m\u001b[0m\u001b[0;34m\u001b[0m\u001b[0;34m\u001b[0m\u001b[0m\n\u001b[0;32m----> 2\u001b[0;31m \u001b[0;32mfrom\u001b[0m \u001b[0mscipy\u001b[0m\u001b[0;34m.\u001b[0m\u001b[0mstats\u001b[0m \u001b[0;32mimport\u001b[0m \u001b[0mranksums\u001b[0m\u001b[0;34m\u001b[0m\u001b[0;34m\u001b[0m\u001b[0m\n\u001b[0m",
      "\u001b[0;31mModuleNotFoundError\u001b[0m: No module named 'scipy'"
     ]
    }
   ],
   "source": [
    "#using ranksums to get Wilcoxon Rank Sum Test p value on two samples: scaled_sci and abs_diff_gdp\n",
    "from scipy.stats import ranksums"
   ]
  },
  {
   "cell_type": "code",
   "execution_count": null,
   "metadata": {},
   "outputs": [],
   "source": []
  }
 ],
 "metadata": {
  "kernelspec": {
   "display_name": "Python 3",
   "language": "python",
   "name": "python3"
  },
  "language_info": {
   "codemirror_mode": {
    "name": "ipython",
    "version": 3
   },
   "file_extension": ".py",
   "mimetype": "text/x-python",
   "name": "python",
   "nbconvert_exporter": "python",
   "pygments_lexer": "ipython3",
   "version": "3.7.6"
  }
 },
 "nbformat": 4,
 "nbformat_minor": 4
}
