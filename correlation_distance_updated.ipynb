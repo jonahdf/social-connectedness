{
 "cells": [
  {
   "cell_type": "code",
   "execution_count": 1,
   "metadata": {},
   "outputs": [
    {
     "name": "stdout",
     "output_type": "stream",
     "text": [
      "  user_loc fr_loc scaled_sci Migrants_from_fr  Lat_user              Lat_fr  \\\n",
      "0       AE     AE    1318515               ..  24.46667            24.46667   \n",
      "1       AE     AG       7764               ..  24.46667  17.133329999999997   \n",
      "2       AE     AL       2836               ..  24.46667            41.33333   \n",
      "3       AE     AM       4174               ..  24.46667            40.18333   \n",
      "4       AE     AO       2954               ..  24.46667           -8.833333   \n",
      "\n",
      "            Long_user              Long_fr  \n",
      "0  54.416669999999996   54.416669999999996  \n",
      "1  54.416669999999996  -61.833330000000004  \n",
      "2  54.416669999999996   19.816670000000002  \n",
      "3  54.416669999999996                 44.5  \n",
      "4  54.416669999999996                13.25  \n"
     ]
    }
   ],
   "source": [
    "import pandas as pd\n",
    "import numpy as np\n",
    "from matplotlib import pyplot as plt\n",
    "\n",
    "\n",
    "country_data = pd.read_csv('data/country.csv',encoding='latin-1')\n",
    "country_data = country_data.astype(str)\n",
    "sci_data = pd.read_csv('data/sci.csv',encoding='latin-1').astype(str)\n",
    "Lat = country_data[['alpha-2','Lat']]\n",
    "Long = country_data[['alpha-2','Long']]\n",
    "\n",
    "# merge Lat,Long and SCI datasets\n",
    "merged = sci_data.merge(Lat,\n",
    "                            how='left',\n",
    "                            left_on='user_loc',\n",
    "                            right_on = 'alpha-2')\n",
    "merged = merged.merge(Lat,\n",
    "                        how='left',\n",
    "                        left_on='fr_loc',\n",
    "                        right_on='alpha-2',\n",
    "                        suffixes=('_user','_fr'))\n",
    "merged = merged.merge(Long,\n",
    "                      how='left',\n",
    "                            left_on='user_loc',\n",
    "                            right_on = 'alpha-2')\n",
    "merged = merged.merge(Long,\n",
    "                        how='left',\n",
    "                        left_on='fr_loc',\n",
    "                        right_on='alpha-2',\n",
    "                        suffixes=('_user','_fr'))\n",
    "merged = merged.drop(columns=['alpha-2_user','alpha-2_fr'])\n",
    "print(merged.head())\n"
   ]
  },
  {
   "cell_type": "code",
   "execution_count": 2,
   "metadata": {},
   "outputs": [
    {
     "name": "stdout",
     "output_type": "stream",
     "text": [
      "  user_loc fr_loc scaled_sci Migrants_from_fr  Lat_user     Lat_fr  Long_user  \\\n",
      "0       AE     AE    1318515               ..  24.46667  24.466670   54.41667   \n",
      "1       AE     AG       7764               ..  24.46667  17.133330   54.41667   \n",
      "2       AE     AL       2836               ..  24.46667  41.333330   54.41667   \n",
      "3       AE     AM       4174               ..  24.46667  40.183330   54.41667   \n",
      "4       AE     AO       2954               ..  24.46667  -8.833333   54.41667   \n",
      "\n",
      "    Long_fr  \n",
      "0  54.41667  \n",
      "1 -61.83333  \n",
      "2  19.81667  \n",
      "3  44.50000  \n",
      "4  13.25000  \n"
     ]
    }
   ],
   "source": [
    "# cleaning data to remove NA values from Lat and Long\n",
    "merged['Lat_user'] = pd.to_numeric(merged['Lat_user'], errors='coerce')\n",
    "merged['Lat_fr'] = pd.to_numeric(merged['Lat_fr'], errors='coerce')\n",
    "merged['Long_user'] = pd.to_numeric(merged['Long_user'], errors='coerce')\n",
    "merged['Long_fr'] = pd.to_numeric(merged['Long_fr'], errors='coerce')\n",
    "merged = merged[merged['Lat_user'].notna()]\n",
    "merged = merged[merged['Lat_fr'].notna()]\n",
    "merged = merged[merged['Long_user'].notna()]\n",
    "merged = merged[merged['Long_fr'].notna()]\n",
    "\n",
    "merged['Lat_user'] = merged['Lat_user'].astype(float)\n",
    "merged['Lat_fr'] = merged['Lat_fr'].astype(float)\n",
    "merged['Long_user'] = merged['Long_user'].astype(float)\n",
    "merged['Long_fr'] = merged['Long_fr'].astype(float)\n",
    "print(merged.head())\n"
   ]
  },
  {
   "cell_type": "code",
   "execution_count": 3,
   "metadata": {},
   "outputs": [],
   "source": [
    "#calculating the distance between (Lat_user, Long_user) and (Lat_fr, Long_fr)\n",
    "#https://gist.github.com/rochacbruno/2883505\n",
    "def distance(s_lat, s_lng, e_lat, e_lng):\n",
    "    \n",
    "    # approximate radius of earth in km\n",
    "    R = 6373.0\n",
    "    \n",
    "    s_lat = s_lat*np.pi/180.0                      \n",
    "    s_lng = np.deg2rad(s_lng)     \n",
    "    e_lat = np.deg2rad(e_lat)                       \n",
    "    e_lng = np.deg2rad(e_lng)  \n",
    "    \n",
    "    d = np.sin((e_lat - s_lat)/2)**2 + np.cos(s_lat)*np.cos(e_lat) * np.sin((e_lng - s_lng)/2)**2\n",
    "    \n",
    "    return 2 * R * np.arcsin(np.sqrt(d)) \n"
   ]
  },
  {
   "cell_type": "code",
   "execution_count": 4,
   "metadata": {},
   "outputs": [
    {
     "name": "stdout",
     "output_type": "stream",
     "text": [
      "      user_loc fr_loc scaled_sci Migrants_from_fr  Lat_user     Lat_fr  \\\n",
      "0           AE     AE    1318515               ..  24.46667  24.466670   \n",
      "1           AE     AG       7764               ..  24.46667  17.133330   \n",
      "2           AE     AL       2836               ..  24.46667  41.333330   \n",
      "3           AE     AM       4174               ..  24.46667  40.183330   \n",
      "4           AE     AO       2954               ..  24.46667  -8.833333   \n",
      "...        ...    ...        ...              ...       ...        ...   \n",
      "34218      nan     WS       1411               .. -22.56667 -13.800000   \n",
      "34221      nan     ZA      88866             7872 -22.56667 -25.730000   \n",
      "34222      nan     ZM     137582             2806 -22.56667 -15.466670   \n",
      "34223      nan     ZW     326749            13413 -22.56667 -17.833330   \n",
      "34224      nan    nan  115262823               .. -22.56667 -22.566670   \n",
      "\n",
      "       Long_user    Long_fr  distance_between  \n",
      "0       54.41667   54.41667      3.537726e-13  \n",
      "1       54.41667  -61.83333      1.170472e+04  \n",
      "2       54.41667   19.81667      3.700501e+03  \n",
      "3       54.41667   44.50000      1.977927e+03  \n",
      "4       54.41667   13.25000      5.801638e+03  \n",
      "...          ...        ...               ...  \n",
      "34218   17.10000  171.75000      1.512311e+04  \n",
      "34221   17.10000   28.22000      1.181707e+03  \n",
      "34222   17.10000   28.26667      1.414124e+03  \n",
      "34223   17.10000   31.05000      1.547517e+03  \n",
      "34224   17.10000   17.10000      3.537726e-13  \n",
      "\n",
      "[28561 rows x 9 columns]\n"
     ]
    }
   ],
   "source": [
    "#calling the above function to find the distance between user and fr countries\n",
    "merged[\"distance_between\"] = distance( merged[\"Lat_user\"], merged[\"Long_user\"], \n",
    "                                     merged[\"Lat_fr\"], merged[\"Long_fr\"] )\n",
    "print(merged)"
   ]
  },
  {
   "cell_type": "code",
   "execution_count": 5,
   "metadata": {},
   "outputs": [
    {
     "data": {
      "text/plain": [
       "False"
      ]
     },
     "execution_count": 5,
     "metadata": {},
     "output_type": "execute_result"
    }
   ],
   "source": [
    "#checking if distance between has any NaN values \n",
    "#returns false so no NaN values\n",
    "merged.isnull().values.any()"
   ]
  },
  {
   "cell_type": "code",
   "execution_count": 6,
   "metadata": {},
   "outputs": [
    {
     "data": {
      "text/html": [
       "<div>\n",
       "<style scoped>\n",
       "    .dataframe tbody tr th:only-of-type {\n",
       "        vertical-align: middle;\n",
       "    }\n",
       "\n",
       "    .dataframe tbody tr th {\n",
       "        vertical-align: top;\n",
       "    }\n",
       "\n",
       "    .dataframe thead th {\n",
       "        text-align: right;\n",
       "    }\n",
       "</style>\n",
       "<table border=\"1\" class=\"dataframe\">\n",
       "  <thead>\n",
       "    <tr style=\"text-align: right;\">\n",
       "      <th></th>\n",
       "      <th>user_loc</th>\n",
       "      <th>fr_loc</th>\n",
       "      <th>scaled_sci</th>\n",
       "      <th>Migrants_from_fr</th>\n",
       "      <th>Lat_user</th>\n",
       "      <th>Lat_fr</th>\n",
       "      <th>Long_user</th>\n",
       "      <th>Long_fr</th>\n",
       "      <th>distance_between</th>\n",
       "    </tr>\n",
       "  </thead>\n",
       "  <tbody>\n",
       "    <tr>\n",
       "      <th>186</th>\n",
       "      <td>AG</td>\n",
       "      <td>AG</td>\n",
       "      <td>939431362</td>\n",
       "      <td>..</td>\n",
       "      <td>17.133330</td>\n",
       "      <td>17.133330</td>\n",
       "      <td>-61.83333</td>\n",
       "      <td>-61.83333</td>\n",
       "      <td>0.0</td>\n",
       "    </tr>\n",
       "    <tr>\n",
       "      <th>372</th>\n",
       "      <td>AL</td>\n",
       "      <td>AL</td>\n",
       "      <td>17636900</td>\n",
       "      <td>..</td>\n",
       "      <td>41.333330</td>\n",
       "      <td>41.333330</td>\n",
       "      <td>19.81667</td>\n",
       "      <td>19.81667</td>\n",
       "      <td>0.0</td>\n",
       "    </tr>\n",
       "    <tr>\n",
       "      <th>558</th>\n",
       "      <td>AM</td>\n",
       "      <td>AM</td>\n",
       "      <td>17773786</td>\n",
       "      <td>..</td>\n",
       "      <td>40.183330</td>\n",
       "      <td>40.183330</td>\n",
       "      <td>44.50000</td>\n",
       "      <td>44.50000</td>\n",
       "      <td>0.0</td>\n",
       "    </tr>\n",
       "    <tr>\n",
       "      <th>744</th>\n",
       "      <td>AO</td>\n",
       "      <td>AO</td>\n",
       "      <td>18876926</td>\n",
       "      <td>..</td>\n",
       "      <td>-8.833333</td>\n",
       "      <td>-8.833333</td>\n",
       "      <td>13.25000</td>\n",
       "      <td>13.25000</td>\n",
       "      <td>0.0</td>\n",
       "    </tr>\n",
       "    <tr>\n",
       "      <th>1116</th>\n",
       "      <td>AT</td>\n",
       "      <td>AT</td>\n",
       "      <td>9622397</td>\n",
       "      <td>..</td>\n",
       "      <td>48.216670</td>\n",
       "      <td>48.216670</td>\n",
       "      <td>16.36667</td>\n",
       "      <td>16.36667</td>\n",
       "      <td>0.0</td>\n",
       "    </tr>\n",
       "    <tr>\n",
       "      <th>...</th>\n",
       "      <td>...</td>\n",
       "      <td>...</td>\n",
       "      <td>...</td>\n",
       "      <td>...</td>\n",
       "      <td>...</td>\n",
       "      <td>...</td>\n",
       "      <td>...</td>\n",
       "      <td>...</td>\n",
       "      <td>...</td>\n",
       "    </tr>\n",
       "    <tr>\n",
       "      <th>32550</th>\n",
       "      <td>VC</td>\n",
       "      <td>VC</td>\n",
       "      <td>838717398</td>\n",
       "      <td>..</td>\n",
       "      <td>13.200000</td>\n",
       "      <td>13.200000</td>\n",
       "      <td>-61.23333</td>\n",
       "      <td>-61.23333</td>\n",
       "      <td>0.0</td>\n",
       "    </tr>\n",
       "    <tr>\n",
       "      <th>32736</th>\n",
       "      <td>VN</td>\n",
       "      <td>VN</td>\n",
       "      <td>879647</td>\n",
       "      <td>..</td>\n",
       "      <td>21.016670</td>\n",
       "      <td>21.016670</td>\n",
       "      <td>105.86670</td>\n",
       "      <td>105.86670</td>\n",
       "      <td>0.0</td>\n",
       "    </tr>\n",
       "    <tr>\n",
       "      <th>32922</th>\n",
       "      <td>VU</td>\n",
       "      <td>VU</td>\n",
       "      <td>335385083</td>\n",
       "      <td>..</td>\n",
       "      <td>-17.750000</td>\n",
       "      <td>-17.750000</td>\n",
       "      <td>168.30000</td>\n",
       "      <td>168.30000</td>\n",
       "      <td>0.0</td>\n",
       "    </tr>\n",
       "    <tr>\n",
       "      <th>33108</th>\n",
       "      <td>WS</td>\n",
       "      <td>WS</td>\n",
       "      <td>248251473</td>\n",
       "      <td>..</td>\n",
       "      <td>-13.800000</td>\n",
       "      <td>-13.800000</td>\n",
       "      <td>171.75000</td>\n",
       "      <td>171.75000</td>\n",
       "      <td>0.0</td>\n",
       "    </tr>\n",
       "    <tr>\n",
       "      <th>34038</th>\n",
       "      <td>ZW</td>\n",
       "      <td>ZW</td>\n",
       "      <td>23660571</td>\n",
       "      <td>..</td>\n",
       "      <td>-17.833330</td>\n",
       "      <td>-17.833330</td>\n",
       "      <td>31.05000</td>\n",
       "      <td>31.05000</td>\n",
       "      <td>0.0</td>\n",
       "    </tr>\n",
       "  </tbody>\n",
       "</table>\n",
       "<p>109 rows × 9 columns</p>\n",
       "</div>"
      ],
      "text/plain": [
       "      user_loc fr_loc scaled_sci Migrants_from_fr   Lat_user     Lat_fr  \\\n",
       "186         AG     AG  939431362               ..  17.133330  17.133330   \n",
       "372         AL     AL   17636900               ..  41.333330  41.333330   \n",
       "558         AM     AM   17773786               ..  40.183330  40.183330   \n",
       "744         AO     AO   18876926               ..  -8.833333  -8.833333   \n",
       "1116        AT     AT    9622397               ..  48.216670  48.216670   \n",
       "...        ...    ...        ...              ...        ...        ...   \n",
       "32550       VC     VC  838717398               ..  13.200000  13.200000   \n",
       "32736       VN     VN     879647               ..  21.016670  21.016670   \n",
       "32922       VU     VU  335385083               .. -17.750000 -17.750000   \n",
       "33108       WS     WS  248251473               .. -13.800000 -13.800000   \n",
       "34038       ZW     ZW   23660571               .. -17.833330 -17.833330   \n",
       "\n",
       "       Long_user    Long_fr  distance_between  \n",
       "186    -61.83333  -61.83333               0.0  \n",
       "372     19.81667   19.81667               0.0  \n",
       "558     44.50000   44.50000               0.0  \n",
       "744     13.25000   13.25000               0.0  \n",
       "1116    16.36667   16.36667               0.0  \n",
       "...          ...        ...               ...  \n",
       "32550  -61.23333  -61.23333               0.0  \n",
       "32736  105.86670  105.86670               0.0  \n",
       "32922  168.30000  168.30000               0.0  \n",
       "33108  171.75000  171.75000               0.0  \n",
       "34038   31.05000   31.05000               0.0  \n",
       "\n",
       "[109 rows x 9 columns]"
      ]
     },
     "execution_count": 6,
     "metadata": {},
     "output_type": "execute_result"
    }
   ],
   "source": [
    "#checking if \"distance between\" returns 0 for all user_fr pairs that are the same country for eg AG and AG\n",
    "merged[merged[\"distance_between\"] == 0]"
   ]
  },
  {
   "cell_type": "code",
   "execution_count": 7,
   "metadata": {},
   "outputs": [
    {
     "name": "stdout",
     "output_type": "stream",
     "text": [
      "<class 'numpy.float64'>\n"
     ]
    }
   ],
   "source": [
    "#converting sci values to float\n",
    "merged[\"scaled_sci\"] = merged[\"scaled_sci\"].astype(float)\n",
    "print(type(merged[\"scaled_sci\"][0]))"
   ]
  },
  {
   "cell_type": "code",
   "execution_count": 8,
   "metadata": {},
   "outputs": [
    {
     "name": "stdout",
     "output_type": "stream",
     "text": [
      "      user_loc fr_loc   scaled_sci  distance_between\n",
      "0           AE     AE    1318515.0      3.537726e-13\n",
      "1           AE     AG       7764.0      1.170472e+04\n",
      "2           AE     AL       2836.0      3.700501e+03\n",
      "3           AE     AM       4174.0      1.977927e+03\n",
      "4           AE     AO       2954.0      5.801638e+03\n",
      "...        ...    ...          ...               ...\n",
      "34218      nan     WS       1411.0      1.512311e+04\n",
      "34221      nan     ZA      88866.0      1.181707e+03\n",
      "34222      nan     ZM     137582.0      1.414124e+03\n",
      "34223      nan     ZW     326749.0      1.547517e+03\n",
      "34224      nan    nan  115262823.0      3.537726e-13\n",
      "\n",
      "[28561 rows x 4 columns]\n"
     ]
    }
   ],
   "source": [
    "#extracting required data \n",
    "corr_data = merged[[\"user_loc\", \"fr_loc\", \"scaled_sci\", \"distance_between\"]]\n",
    "print(corr_data)"
   ]
  },
  {
   "cell_type": "code",
   "execution_count": 9,
   "metadata": {},
   "outputs": [
    {
     "data": {
      "text/plain": [
       "RanksumsResult(statistic=-97.83020505766947, pvalue=0.0)"
      ]
     },
     "execution_count": 9,
     "metadata": {},
     "output_type": "execute_result"
    }
   ],
   "source": [
    "#using ranksums to get Wilcoxon Rank Sum Test p value on two samples: scaled_sci and abs_diff_gdp\n",
    "from scipy.stats import ranksums\n",
    "ranksums(corr_data[\"scaled_sci\"], corr_data[\"distance_between\"])"
   ]
  },
  {
   "cell_type": "code",
   "execution_count": 10,
   "metadata": {},
   "outputs": [
    {
     "name": "stdout",
     "output_type": "stream",
     "text": [
      "SpearmanrResult(correlation=-0.5160371178763786, pvalue=0.0)\n"
     ]
    }
   ],
   "source": [
    "#using spearmanr to get the spearman coeffecient of the two samples\n",
    "from scipy.stats import spearmanr\n",
    "sp_coef = spearmanr(corr_data[\"scaled_sci\"], corr_data[\"distance_between\"])\n",
    "print(sp_coef)"
   ]
  },
  {
   "cell_type": "code",
   "execution_count": 12,
   "metadata": {},
   "outputs": [
    {
     "data": {
      "image/png": "[encoded data removed]",
      "text/plain": [
       "<Figure size 432x288 with 1 Axes>"
      ]
     },
     "metadata": {
      "needs_background": "light"
     },
     "output_type": "display_data"
    }
   ],
   "source": [
    "# add a column for the log10(SCI)\n",
    "merged['scaled_sci'] = pd.to_numeric(merged['scaled_sci'], errors='coerce')\n",
    "merged['SCI_log10'] = np.log10(merged['scaled_sci'])\n",
    "\n",
    "plt.scatter(merged['distance_between'], merged['SCI_log10'], alpha = 0.01)\n",
    "plt.xlabel('Distance Between Countries')\n",
    "plt.ylabel('log10(SCI)')\n",
    "plt.title('Distance vs SCI')\n",
    "plt.show()"
   ]
  },
  {
   "cell_type": "code",
   "execution_count": null,
   "metadata": {},
   "outputs": [],
   "source": []
  }
 ],
 "metadata": {
  "kernelspec": {
   "display_name": "Python 3",
   "language": "python",
   "name": "python3"
  },
  "language_info": {
   "codemirror_mode": {
    "name": "ipython",
    "version": 3
   },
   "file_extension": ".py",
   "mimetype": "text/x-python",
   "name": "python",
   "nbconvert_exporter": "python",
   "pygments_lexer": "ipython3",
   "version": "3.7.6"
  }
 },
 "nbformat": 4,
 "nbformat_minor": 4
}
