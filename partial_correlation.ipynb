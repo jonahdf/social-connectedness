{
 "cells": [
  {
   "cell_type": "code",
   "execution_count": 117,
   "metadata": {},
   "outputs": [],
   "source": [
    "import pandas as pd\n",
    "import numpy as np"
   ]
  },
  {
   "cell_type": "code",
   "execution_count": 118,
   "metadata": {},
   "outputs": [
    {
     "name": "stdout",
     "output_type": "stream",
     "text": [
      "       scaled_sci  migrants_from_fr      gdp_diff  population_diff  \\\n",
      "0         1318515               NaN      0.000000              0.0   \n",
      "1            7764               NaN  27112.375540        9673411.0   \n",
      "2            2836               NaN  38554.976170        6916338.0   \n",
      "3            4174               NaN  39618.866070        6812798.0   \n",
      "4            2954               NaN  40549.709690       22054766.0   \n",
      "...           ...               ...           ...              ...   \n",
      "34220       12385               NaN           NaN              NaN   \n",
      "34221       88866            7872.0    878.599360       56063740.0   \n",
      "34222      137582            2806.0   3939.094354       15366500.0   \n",
      "34223      326749           13413.0   3811.688259       12150938.0   \n",
      "34224   115262823               NaN      0.000000              0.0   \n",
      "\n",
      "       literacy_dif  internet_diff  hci_diff      distance  trade  \n",
      "0               NaN       0.000000  0.000000      0.000095    NaN  \n",
      "1               NaN            NaN  0.097784  11701.050260    NaN  \n",
      "2               NaN      22.972882  0.047335   3699.340004    NaN  \n",
      "3               NaN      30.075038  0.094275   1977.306734    NaN  \n",
      "4               NaN      80.480843  0.315810   5799.817372    NaN  \n",
      "...             ...            ...       ...           ...    ...  \n",
      "34220           NaN            NaN       NaN           NaN    NaN  \n",
      "34221           NaN      19.329988  0.022529   1181.336386    NaN  \n",
      "34222      4.779305       8.984827  0.053903   1413.680436    NaN  \n",
      "34223           NaN       9.781919  0.016163   1547.031354    NaN  \n",
      "34224      0.000000       0.000000  0.000000      0.000000    NaN  \n",
      "\n",
      "[34225 rows x 9 columns]\n"
     ]
    }
   ],
   "source": [
    "pairwise_df = pd.read_csv('data/pairwise.csv',encoding='latin-1')\n",
    "pairwise_df = pairwise_df.drop(columns=['user_loc','fr_loc','sci_ranked','population_diff_ranked','trade_ranked'])\n",
    "print(pairwise_df)"
   ]
  },
  {
   "cell_type": "code",
   "execution_count": 119,
   "metadata": {},
   "outputs": [
    {
     "name": "stdout",
     "output_type": "stream",
     "text": [
      "spearman   -0.019\n",
      "Name: r, dtype: float64\n"
     ]
    }
   ],
   "source": [
    "import pingouin as pg\n",
    "results = pairwise_df.partial_corr(x=\"scaled_sci\", y=\"gdp_diff\", covar=\"distance\", method='spearman').round(3)\n",
    "print(results[\"r\"])\n",
    "\n",
    "\n",
    "\n",
    "\n",
    "\n",
    "\n"
   ]
  },
  {
   "cell_type": "code",
   "execution_count": 120,
   "metadata": {},
   "outputs": [
    {
     "name": "stdout",
     "output_type": "stream",
     "text": [
      "       scaled_sci  migrants_from_fr      gdp_diff  population_diff  \\\n",
      "434        517433           31871.0  15039.924830     7.862131e+06   \n",
      "449        108736            8973.0  29235.704980     5.744320e+07   \n",
      "946          4129           50621.0   2682.715371     1.661108e+08   \n",
      "974         16968          101726.0  18653.729510     2.138069e+06   \n",
      "989          1330            1055.0   8640.355390     3.422239e+07   \n",
      "...           ...               ...           ...              ...   \n",
      "32637         262            2026.0    560.733945     1.269956e+09   \n",
      "32679        3753             133.0   8806.636050     6.451233e+07   \n",
      "32710        8144            1830.0  63622.182450     9.075854e+07   \n",
      "32721        1229           12077.0   4728.878666     2.683652e+07   \n",
      "34119        1481             764.0  29024.656320     5.780287e+07   \n",
      "\n",
      "       literacy_dif  internet_diff  hci_diff      distance    trade  \n",
      "434        0.205200       1.954070  0.066140    499.655168  159.787  \n",
      "449        1.014610       8.769693  0.124214    611.189745   39.733  \n",
      "946        5.776367       6.823622  0.071643   1689.483130   81.600  \n",
      "974        0.567368      10.307339  0.118790  10056.420440  271.830  \n",
      "989        1.067917       4.401936  0.077439  11700.436160    5.329  \n",
      "...             ...            ...       ...           ...      ...  \n",
      "32637     20.627388      26.140000  0.202444   3003.948710  103.700  \n",
      "32679      0.145973      22.000479  0.054661   2039.029322  135.100  \n",
      "32710      2.344475      26.312268  0.199844   2205.128094  499.334  \n",
      "32721      1.232620       5.248071  0.070378    989.776333  305.500  \n",
      "34119      7.628494      26.239941  0.307802   7182.142982   21.899  \n",
      "\n",
      "[285 rows x 9 columns]\n"
     ]
    }
   ],
   "source": [
    "print(pairwise_df.dropna())"
   ]
  },
  {
   "cell_type": "code",
   "execution_count": 121,
   "metadata": {},
   "outputs": [
    {
     "name": "stdout",
     "output_type": "stream",
     "text": [
      "Empty DataFrame\n",
      "Columns: []\n",
      "Index: []\n"
     ]
    }
   ],
   "source": [
    "partial_corr_df = pd.DataFrame()\n",
    "print(partial_corr_df)"
   ]
  },
  {
   "cell_type": "code",
   "execution_count": 122,
   "metadata": {},
   "outputs": [
    {
     "name": "stdout",
     "output_type": "stream",
     "text": [
      "   Variable  Correlation\n",
      "0  gdp_diff       -0.019\n"
     ]
    }
   ],
   "source": [
    "#this isnt done in the most effecient way, but the loops were getting some errors \n",
    "gdp_corr = pairwise_df.partial_corr(x=\"scaled_sci\", y=\"gdp_diff\", covar=\"distance\", method='spearman').round(3)\n",
    "result = (gdp_corr[\"r\"])\n",
    "partial_corr_df = partial_corr_df.append(pd.DataFrame({'Variable': \"gdp_diff\", 'Correlation': result}), ignore_index=True)\n",
    "\n",
    "print(partial_corr_df)\n",
    "                                         \n",
    "                                         \n",
    "                                         \n",
    "                                         "
   ]
  },
  {
   "cell_type": "code",
   "execution_count": 123,
   "metadata": {},
   "outputs": [
    {
     "name": "stdout",
     "output_type": "stream",
     "text": [
      "         Variable  Correlation\n",
      "0        gdp_diff       -0.019\n",
      "1  migration_diff        0.577\n"
     ]
    }
   ],
   "source": [
    "migration_corr = pairwise_df.partial_corr(x=\"scaled_sci\", y=\"migrants_from_fr\", covar=\"distance\", method='spearman').round(3)\n",
    "\n",
    "partial_corr_df = partial_corr_df.append(pd.DataFrame({'Variable': \"migration_diff\", 'Correlation': migration_corr[\"r\"]}), ignore_index=True)\n",
    "\n",
    "print(partial_corr_df)\n",
    "\n"
   ]
  },
  {
   "cell_type": "code",
   "execution_count": 124,
   "metadata": {},
   "outputs": [
    {
     "name": "stdout",
     "output_type": "stream",
     "text": [
      "          Variable  Correlation\n",
      "0         gdp_diff       -0.019\n",
      "1   migration_diff        0.577\n",
      "2  population_diff       -0.142\n"
     ]
    }
   ],
   "source": [
    "pop_corr = pairwise_df.partial_corr(x=\"scaled_sci\", y=\"population_diff\", covar=\"distance\", method='spearman').round(3)\n",
    "\n",
    "partial_corr_df = partial_corr_df.append(pd.DataFrame({'Variable': \"population_diff\", 'Correlation': pop_corr[\"r\"]}), ignore_index=True)\n",
    "\n",
    "\n",
    "print(partial_corr_df)"
   ]
  },
  {
   "cell_type": "code",
   "execution_count": 125,
   "metadata": {},
   "outputs": [
    {
     "name": "stdout",
     "output_type": "stream",
     "text": [
      "          Variable  Correlation\n",
      "0         gdp_diff       -0.019\n",
      "1   migration_diff        0.577\n",
      "2  population_diff       -0.142\n",
      "3    literacy_diff        0.018\n"
     ]
    }
   ],
   "source": [
    "lit_corr = pairwise_df.partial_corr(x=\"scaled_sci\", y=\"literacy_dif\", covar=\"distance\", method='spearman').round(3)\n",
    "\n",
    "partial_corr_df = partial_corr_df.append(pd.DataFrame({'Variable': \"literacy_diff\", 'Correlation': lit_corr[\"r\"]}), ignore_index=True)\n",
    "\n",
    "\n",
    "print(partial_corr_df)"
   ]
  },
  {
   "cell_type": "code",
   "execution_count": 126,
   "metadata": {},
   "outputs": [
    {
     "name": "stdout",
     "output_type": "stream",
     "text": [
      "          Variable  Correlation\n",
      "0         gdp_diff       -0.019\n",
      "1   migration_diff        0.577\n",
      "2  population_diff       -0.142\n",
      "3    literacy_diff        0.018\n",
      "4    internet_diff       -0.023\n"
     ]
    }
   ],
   "source": [
    "int_corr = pairwise_df.partial_corr(x=\"scaled_sci\", y=\"internet_diff\", covar=\"distance\", method='spearman').round(3)\n",
    "\n",
    "partial_corr_df = partial_corr_df.append(pd.DataFrame({'Variable': \"internet_diff\", 'Correlation': int_corr[\"r\"]}), ignore_index=True)\n",
    "\n",
    "\n",
    "print(partial_corr_df)"
   ]
  },
  {
   "cell_type": "code",
   "execution_count": 127,
   "metadata": {},
   "outputs": [
    {
     "name": "stdout",
     "output_type": "stream",
     "text": [
      "          Variable  Correlation\n",
      "0         gdp_diff       -0.019\n",
      "1   migration_diff        0.577\n",
      "2  population_diff       -0.142\n",
      "3    literacy_diff        0.018\n",
      "4    internet_diff       -0.023\n",
      "5         hci_diff       -0.017\n"
     ]
    }
   ],
   "source": [
    "hci_corr = pairwise_df.partial_corr(x=\"scaled_sci\", y=\"hci_diff\", covar=\"distance\", method='spearman').round(3)\n",
    "\n",
    "partial_corr_df = partial_corr_df.append(pd.DataFrame({'Variable': \"hci_diff\", 'Correlation': hci_corr[\"r\"]}), ignore_index=True)\n",
    "\n",
    "\n",
    "print(partial_corr_df)"
   ]
  },
  {
   "cell_type": "code",
   "execution_count": 128,
   "metadata": {},
   "outputs": [
    {
     "name": "stdout",
     "output_type": "stream",
     "text": [
      "          Variable  Correlation\n",
      "0         gdp_diff       -0.019\n",
      "1   migration_diff        0.577\n",
      "2  population_diff       -0.142\n",
      "3    literacy_diff        0.018\n",
      "4    internet_diff       -0.023\n",
      "5         hci_diff       -0.017\n",
      "6       trade_diff        0.511\n"
     ]
    }
   ],
   "source": [
    "trade_corr = pairwise_df.partial_corr(x=\"scaled_sci\", y=\"trade\", covar=\"distance\", method='spearman').round(3)\n",
    "\n",
    "partial_corr_df = partial_corr_df.append(pd.DataFrame({'Variable': \"trade_diff\", 'Correlation': trade_corr[\"r\"]}), ignore_index=True)\n",
    "\n",
    "\n",
    "print(partial_corr_df)"
   ]
  },
  {
   "cell_type": "code",
   "execution_count": null,
   "metadata": {},
   "outputs": [],
   "source": []
  }
 ],
 "metadata": {
  "kernelspec": {
   "display_name": "Python 3",
   "language": "python",
   "name": "python3"
  },
  "language_info": {
   "codemirror_mode": {
    "name": "ipython",
    "version": 3
   },
   "file_extension": ".py",
   "mimetype": "text/x-python",
   "name": "python",
   "nbconvert_exporter": "python",
   "pygments_lexer": "ipython3",
   "version": "3.7.6"
  }
 },
 "nbformat": 4,
 "nbformat_minor": 4
}
