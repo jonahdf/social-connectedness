{
 "cells": [
  {
   "cell_type": "code",
   "execution_count": 7,
   "metadata": {},
   "outputs": [
    {
     "data": {
      "text/html": [
       "<div>\n",
       "<style scoped>\n",
       "    .dataframe tbody tr th:only-of-type {\n",
       "        vertical-align: middle;\n",
       "    }\n",
       "\n",
       "    .dataframe tbody tr th {\n",
       "        vertical-align: top;\n",
       "    }\n",
       "\n",
       "    .dataframe thead th {\n",
       "        text-align: right;\n",
       "    }\n",
       "</style>\n",
       "<table border=\"1\" class=\"dataframe\">\n",
       "  <thead>\n",
       "    <tr style=\"text-align: right;\">\n",
       "      <th></th>\n",
       "      <th>user_loc</th>\n",
       "      <th>fr_loc</th>\n",
       "      <th>scaled_sci</th>\n",
       "      <th>Migrants_from_fr</th>\n",
       "      <th>C</th>\n",
       "      <th>SCI_log10</th>\n",
       "    </tr>\n",
       "  </thead>\n",
       "  <tbody>\n",
       "    <tr>\n",
       "      <th>0</th>\n",
       "      <td>AE</td>\n",
       "      <td>AE</td>\n",
       "      <td>1318515</td>\n",
       "      <td>..</td>\n",
       "      <td>0</td>\n",
       "      <td>6.120085</td>\n",
       "    </tr>\n",
       "    <tr>\n",
       "      <th>1</th>\n",
       "      <td>AE</td>\n",
       "      <td>AG</td>\n",
       "      <td>7764</td>\n",
       "      <td>..</td>\n",
       "      <td>1</td>\n",
       "      <td>3.890086</td>\n",
       "    </tr>\n",
       "    <tr>\n",
       "      <th>2</th>\n",
       "      <td>AE</td>\n",
       "      <td>AL</td>\n",
       "      <td>2836</td>\n",
       "      <td>..</td>\n",
       "      <td>2</td>\n",
       "      <td>3.452706</td>\n",
       "    </tr>\n",
       "    <tr>\n",
       "      <th>3</th>\n",
       "      <td>AE</td>\n",
       "      <td>AM</td>\n",
       "      <td>4174</td>\n",
       "      <td>..</td>\n",
       "      <td>3</td>\n",
       "      <td>3.620552</td>\n",
       "    </tr>\n",
       "    <tr>\n",
       "      <th>4</th>\n",
       "      <td>AE</td>\n",
       "      <td>AO</td>\n",
       "      <td>2954</td>\n",
       "      <td>..</td>\n",
       "      <td>4</td>\n",
       "      <td>3.470410</td>\n",
       "    </tr>\n",
       "    <tr>\n",
       "      <th>...</th>\n",
       "      <td>...</td>\n",
       "      <td>...</td>\n",
       "      <td>...</td>\n",
       "      <td>...</td>\n",
       "      <td>...</td>\n",
       "      <td>...</td>\n",
       "    </tr>\n",
       "    <tr>\n",
       "      <th>34220</th>\n",
       "      <td>NaN</td>\n",
       "      <td>YT</td>\n",
       "      <td>12385</td>\n",
       "      <td>NaN</td>\n",
       "      <td>34220</td>\n",
       "      <td>4.092896</td>\n",
       "    </tr>\n",
       "    <tr>\n",
       "      <th>34221</th>\n",
       "      <td>NaN</td>\n",
       "      <td>ZA</td>\n",
       "      <td>88866</td>\n",
       "      <td>7872</td>\n",
       "      <td>34221</td>\n",
       "      <td>4.948736</td>\n",
       "    </tr>\n",
       "    <tr>\n",
       "      <th>34222</th>\n",
       "      <td>NaN</td>\n",
       "      <td>ZM</td>\n",
       "      <td>137582</td>\n",
       "      <td>2806</td>\n",
       "      <td>34222</td>\n",
       "      <td>5.138562</td>\n",
       "    </tr>\n",
       "    <tr>\n",
       "      <th>34223</th>\n",
       "      <td>NaN</td>\n",
       "      <td>ZW</td>\n",
       "      <td>326749</td>\n",
       "      <td>13413</td>\n",
       "      <td>34223</td>\n",
       "      <td>5.514214</td>\n",
       "    </tr>\n",
       "    <tr>\n",
       "      <th>34224</th>\n",
       "      <td>NaN</td>\n",
       "      <td>NaN</td>\n",
       "      <td>115262823</td>\n",
       "      <td>..</td>\n",
       "      <td>34224</td>\n",
       "      <td>8.061689</td>\n",
       "    </tr>\n",
       "  </tbody>\n",
       "</table>\n",
       "<p>34225 rows × 6 columns</p>\n",
       "</div>"
      ],
      "text/plain": [
       "      user_loc fr_loc  scaled_sci Migrants_from_fr      C  SCI_log10\n",
       "0           AE     AE     1318515               ..      0   6.120085\n",
       "1           AE     AG        7764               ..      1   3.890086\n",
       "2           AE     AL        2836               ..      2   3.452706\n",
       "3           AE     AM        4174               ..      3   3.620552\n",
       "4           AE     AO        2954               ..      4   3.470410\n",
       "...        ...    ...         ...              ...    ...        ...\n",
       "34220      NaN     YT       12385              NaN  34220   4.092896\n",
       "34221      NaN     ZA       88866             7872  34221   4.948736\n",
       "34222      NaN     ZM      137582             2806  34222   5.138562\n",
       "34223      NaN     ZW      326749            13413  34223   5.514214\n",
       "34224      NaN    NaN   115262823               ..  34224   8.061689\n",
       "\n",
       "[34225 rows x 6 columns]"
      ]
     },
     "execution_count": 7,
     "metadata": {},
     "output_type": "execute_result"
    }
   ],
   "source": [
    "# show the power law distribution of SCI\n",
    "import pandas as pd\n",
    "import numpy as np\n",
    "from matplotlib import pyplot as plt\n",
    "\n",
    "df = pd.read_csv(\"data/sci.csv\")\n",
    "df.head()\n",
    "\n",
    "df['C'] = np.arange(len(df))\n",
    "df['SCI_log10'] = np.log10(df['scaled_sci'])\n",
    "df"
   ]
  },
  {
   "cell_type": "code",
   "execution_count": 13,
   "metadata": {},
   "outputs": [
    {
     "name": "stdout",
     "output_type": "stream",
     "text": [
      "       index  SCI_log10\n",
      "0      20829   1.698970\n",
      "1      20277   1.698970\n",
      "2      20227   1.770852\n",
      "3      11579   1.770852\n",
      "4      28229   1.792392\n",
      "...      ...        ...\n",
      "34220  16182   8.971240\n",
      "34221    186   8.972865\n",
      "34222  29016   8.977212\n",
      "34223  10416   8.990113\n",
      "34224  27528   9.000000\n",
      "\n",
      "[34225 rows x 2 columns]\n"
     ]
    },
    {
     "data": {
      "text/plain": [
       "Text(0.5, 0, 'Observation')"
      ]
     },
     "execution_count": 13,
     "metadata": {},
     "output_type": "execute_result"
    },
    {
     "data": {
      "image/png": "[encoded data removed]",
      "text/plain": [
       "<Figure size 432x288 with 1 Axes>"
      ]
     },
     "metadata": {
      "needs_background": "light"
     },
     "output_type": "display_data"
    }
   ],
   "source": [
    "scis = df['SCI_log10'].sort_values().reset_index()\n",
    "print(scis)\n",
    "scis.describe()\n",
    "\n",
    "plt.plot(scis['SCI_log10'])\n",
    "plt.title(\"SCI Distribution\")\n",
    "plt.ylabel(\"log10(SCI)\")\n",
    "plt.xlabel(\"Observation\")"
   ]
  },
  {
   "cell_type": "code",
   "execution_count": null,
   "metadata": {},
   "outputs": [],
   "source": [
    "# correlation between GDP and SCI\n"
   ]
  }
 ],
 "metadata": {
  "kernelspec": {
   "display_name": "Python 3",
   "language": "python",
   "name": "python3"
  },
  "language_info": {
   "codemirror_mode": {
    "name": "ipython",
    "version": 3
   },
   "file_extension": ".py",
   "mimetype": "text/x-python",
   "name": "python",
   "nbconvert_exporter": "python",
   "pygments_lexer": "ipython3",
   "version": "3.7.6"
  }
 },
 "nbformat": 4,
 "nbformat_minor": 4
}
