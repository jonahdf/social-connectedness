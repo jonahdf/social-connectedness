{
 "metadata": {
  "language_info": {
   "codemirror_mode": {
    "name": "ipython",
    "version": 3
   },
   "file_extension": ".py",
   "mimetype": "text/x-python",
   "name": "python",
   "nbconvert_exporter": "python",
   "pygments_lexer": "ipython3",
   "version": "3.6.9-final"
  },
  "orig_nbformat": 2,
  "kernelspec": {
   "name": "python3",
   "display_name": "Python 3"
  }
 },
 "nbformat": 4,
 "nbformat_minor": 2,
 "cells": [
  {
   "cell_type": "code",
   "execution_count": 81,
   "metadata": {},
   "outputs": [
    {
     "output_type": "stream",
     "name": "stdout",
     "text": [
      "      user_loc fr_loc scaled_sci Migrants_from_fr     gdp_user       gdp_fr\n0           AE     AE    1318515               ..  43839.35635  43839.35635\n1           AE     AG       7764               ..  43839.35635  16726.98081\n2           AE     AL       2836               ..  43839.35635  5284.380184\n3           AE     AM       4174               ..  43839.35635  4220.490277\n4           AE     AO       2954               ..  43839.35635  3289.646664\n...        ...    ...        ...              ...          ...          ...\n34220      nan     YT      12385              nan  5495.428836          NaN\n34221      nan     ZA      88866             7872  5495.428836  6374.028196\n34222      nan     ZM     137582             2806  5495.428836  1556.334482\n34223      nan     ZW     326749            13413  5495.428836  1683.740577\n34224      nan    nan  115262823               ..  5495.428836  5495.428836\n\n[34225 rows x 6 columns]\n"
     ]
    }
   ],
   "source": [
    "import pandas as pd\n",
    "\n",
    "country_data = pd.read_csv('./country.csv',encoding='latin-1')\n",
    "country_data = country_data.astype(str)\n",
    "sci_data = pd.read_csv('./sci.csv',encoding='latin-1').astype(str)\n",
    "\n",
    "def get_country(code):\n",
    "    country_data.loc[df['alpha-2']==code]\n",
    "\n",
    "gdps = country_data[['alpha-2','gdp']]\n",
    "\n",
    "def sci_gdp():\n",
    "    merged = sci_data.merge(gdps,\n",
    "                            how='left',\n",
    "                            left_on='user_loc',\n",
    "                            right_on = 'alpha-2')\n",
    "    merged = merged.merge(gdps,\n",
    "                        how='left',\n",
    "                        left_on='fr_loc',\n",
    "                        right_on='alpha-2',\n",
    "                        suffixes=('_user','_fr'))\n",
    "    merged = merged.drop(columns=['alpha-2_user','alpha-2_fr'])\n",
    "    return merged\n",
    "    \n",
    "print(sci_gdp())\n",
    "\n"
   ]
  },
  {
   "cell_type": "code",
   "execution_count": null,
   "metadata": {},
   "outputs": [],
   "source": []
  }
 ]
}